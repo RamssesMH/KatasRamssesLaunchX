{
 "cells": [
  {
   "cell_type": "markdown",
   "metadata": {},
   "source": [
    "Problema No. 1"
   ]
  },
  {
   "cell_type": "code",
   "execution_count": 1,
   "metadata": {},
   "outputs": [
    {
     "name": "stdout",
     "output_type": "stream",
     "text": [
      "El asteroide supero las velocidades consideradas seguras\n"
     ]
    }
   ],
   "source": [
    "vel_asteroide = 619\n",
    "if vel_asteroide > 25:\n",
    "    print('El asteroide supero las velocidades consideradas seguras')\n",
    "else:\n",
    "    print('El asteroide aún es seguro')"
   ]
  },
  {
   "cell_type": "markdown",
   "metadata": {},
   "source": [
    "Problema No. 2"
   ]
  },
  {
   "cell_type": "code",
   "execution_count": 5,
   "metadata": {},
   "outputs": [
    {
     "name": "stdout",
     "output_type": "stream",
     "text": [
      "El asteroide se ve con una luz tenue\n"
     ]
    }
   ],
   "source": [
    "asteroide = 20\n",
    "if asteroide > 20:\n",
    "    print('El asteroide se ve con una luz muy brillante')\n",
    "elif asteroide == 20:\n",
    "    print('El asteroide se ve con una luz tenue')\n",
    "else:\n",
    "    print('¡No se ve nada!')"
   ]
  },
  {
   "cell_type": "markdown",
   "metadata": {},
   "source": [
    "Problema No. 3"
   ]
  },
  {
   "cell_type": "code",
   "execution_count": 8,
   "metadata": {},
   "outputs": [
    {
     "name": "stdout",
     "output_type": "stream",
     "text": [
      "¡Nos vamos a moriiiiir!\n"
     ]
    }
   ],
   "source": [
    "vel_asteroide = 27\n",
    "tama_asteroide = 28\n",
    "if vel_asteroide > 25 and tama_asteroide > 25:\n",
    "    print('¡Nos vamos a moriiiiir!')\n",
    "elif vel_asteroide >= 20:\n",
    "    print('Se ve el asteroide en el cielo')\n",
    "elif tama_asteroide < 25:\n",
    "    print('No se ve nada)')\n",
    "else:\n",
    "    print('No se ve nada')"
   ]
  }
 ],
 "metadata": {
  "interpreter": {
   "hash": "1e508ea1f8a7afbde7d102852f4520d5fd513ca64d6ed74852ab11d1789d27f0"
  },
  "kernelspec": {
   "display_name": "Python 3.10.2 64-bit",
   "language": "python",
   "name": "python3"
  },
  "language_info": {
   "codemirror_mode": {
    "name": "ipython",
    "version": 3
   },
   "file_extension": ".py",
   "mimetype": "text/x-python",
   "name": "python",
   "nbconvert_exporter": "python",
   "pygments_lexer": "ipython3",
   "version": "3.10.2"
  },
  "orig_nbformat": 4
 },
 "nbformat": 4,
 "nbformat_minor": 2
}
